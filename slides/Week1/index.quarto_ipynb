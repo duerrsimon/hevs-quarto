{
 "cells": [
  {
   "cell_type": "markdown",
   "id": "876889a2",
   "metadata": {},
   "source": [
    "# Week description\n",
    "\n",
    "Lorem ipsum dolor sit amet. hello.\n",
    "\n",
    "$$\n",
    "e=mc^2\n",
    "$$\n",
    "\n",
    "[👨🏻‍🏫 Slides]({{< var base_url>}}slides/Week1/slides.html){.btn .btn-outline-primary .btn role=\"button\"} \n",
    "[Slides PDF]({{< var base_url>}}slides/Week1/slides.pdf){.btn .btn-outline-secondary .btn role=\"button\"} \n",
    "\n",
    "## Exercise with Inline Solution accessible to the students\n",
    "```{pyodide}\n",
    "#| exercise: ex_1\n",
    "\n",
    "# square each number\n",
    "for x in range(5):\n",
    "  print(______)\n",
    "```\n",
    "\n",
    "::: {.solution exercise=\"ex_1\"}\n",
    "\n",
    "```\n",
    "# square each number\n",
    "for x in range(5):\n",
    "  print(x**2)\n",
    "```\n",
    ":::\n",
    "\n",
    "\n",
    "## Solution only visible in the teacher version\n"
   ]
  }
 ],
 "metadata": {
  "kernelspec": {
   "display_name": "Python 3 (ipykernel)",
   "language": "python",
   "name": "python3",
   "path": "/opt/hostedtoolcache/Python/3.10.18/x64/share/jupyter/kernels/python3"
  },
  "language_info": {
   "codemirror_mode": {
    "name": "ipython",
    "version": 3
   },
   "file_extension": ".py",
   "mimetype": "text/x-python",
   "name": "python",
   "nbconvert_exporter": "python",
   "pygments_lexer": "ipython3",
   "version": "3.10.18"
  }
 },
 "nbformat": 4,
 "nbformat_minor": 5
}
